{
 "cells": [
  {
   "cell_type": "code",
   "execution_count": 1,
   "metadata": {},
   "outputs": [],
   "source": [
    "from splinter import Browser"
   ]
  },
  {
   "cell_type": "code",
   "execution_count": 2,
   "metadata": {},
   "outputs": [],
   "source": [
    "from bs4 import BeautifulSoup\n",
    "from config import user, password, the_assignment\n",
    "import time"
   ]
  },
  {
   "cell_type": "code",
   "execution_count": 3,
   "metadata": {},
   "outputs": [],
   "source": [
    "executable_path = {'executable_path': '/home/datavisualization/DV/python-homework-scraper/chromedriver'}\n",
    "browser = Browser('chrome', **executable_path, headless=False)"
   ]
  },
  {
   "cell_type": "code",
   "execution_count": 4,
   "metadata": {},
   "outputs": [],
   "source": [
    "browser.visit(\"https://bootcampspot.com\")"
   ]
  },
  {
   "cell_type": "code",
   "execution_count": 5,
   "metadata": {},
   "outputs": [],
   "source": [
    "browser.find_by_css(\"#emailAddress\").type(user)\n",
    "browser.find_by_css(\"#password\").type(password)\n",
    "browser.find_by_css(\"button.btn-submit\").click()"
   ]
  },
  {
   "cell_type": "code",
   "execution_count": 6,
   "metadata": {},
   "outputs": [],
   "source": [
    "time.sleep(2)\n",
    "browser.find_by_css(\"td.col-md-3:nth-child(3)\").click()\n",
    "browser.find_by_css(\"span\").click()"
   ]
  },
  {
   "cell_type": "code",
   "execution_count": 7,
   "metadata": {},
   "outputs": [],
   "source": [
    "browser.find_by_xpath(\".//a[contains(@href,'gradebook')]\").click()\n",
    "browser.find_option_by_text(the_assignment).first.click()\n",
    "browser.find_option_by_text(\"0: Data Prework\").first.click()\n",
    "time.sleep(2)\n",
    "browser.find_option_by_text(the_assignment).first.click()"
   ]
  },
  {
   "cell_type": "code",
   "execution_count": 8,
   "metadata": {
    "scrolled": true
   },
   "outputs": [
    {
     "name": "stdout",
     "output_type": "stream",
     "text": [
      "error\n",
      "\n",
      "no grade\n",
      "A-\n",
      "no grade\n",
      "no grade\n",
      "error\n",
      "\n",
      "no grade\n",
      "A+\n",
      "no grade\n",
      "no grade\n",
      "error\n",
      "\n",
      "no grade\n",
      "A+\n",
      "no grade\n",
      "no grade\n",
      "error\n",
      "\n",
      "no grade\n",
      "A+\n",
      "no grade\n",
      "no grade\n",
      "no grade\n",
      "error\n",
      "\n",
      "no grade\n",
      "A+\n",
      "no grade\n",
      "no grade\n",
      "error\n",
      "\n",
      "no grade\n",
      "A\n",
      "no grade\n",
      "no grade\n",
      "error\n",
      "\n",
      "no grade\n",
      "B\n",
      "no grade\n",
      "no grade\n",
      "error\n",
      "\n",
      "no grade\n",
      "A-\n",
      "no grade\n",
      "no grade\n",
      "error\n",
      "\n",
      "no grade\n",
      "A+\n",
      "no grade\n",
      "no grade\n"
     ]
    }
   ],
   "source": [
    "def calll():\n",
    "    try:\n",
    "        browser.find_by_css(\"button.btn-save\").click()\n",
    "    except:\n",
    "        print(\"error\")\n",
    "\n",
    "stage = 0\n",
    "with open(\"comment.txt\") as fp:\n",
    "    line = fp.readline()\n",
    "    while line:\n",
    "        \n",
    "        if len(line) == 1:\n",
    "            stage += 1\n",
    "            \n",
    "        if stage == 0:\n",
    "            browser.find_by_text(line.strip()).find_by_xpath('..').find_by_css(\"a.text-link\").click()\n",
    "        elif stage == 1:\n",
    "            browser.find_by_tag(\"textarea\").type(line.strip())\n",
    "            calll()\n",
    "        elif stage == 2:\n",
    "            print(line.strip())\n",
    "            \n",
    "            try:\n",
    "                browser.find_option_by_text(line.strip()).first.click()\n",
    "            except:\n",
    "                print(\"no grade\")\n",
    "        elif stage == 3:\n",
    "            try:\n",
    "                browser.find_option_by_text(line.strip()).first.click()\n",
    "            except:\n",
    "                print(\"no grade\")\n",
    "                \n",
    "            if line.strip() == \"END\":\n",
    "                stage = 0\n",
    "                browser.find_by_xpath(\".//a[contains(@href,'gradebook')]\").click()\n",
    "                browser.find_option_by_text(the_assignment).first.click()\n",
    "                browser.find_option_by_text(\"0: Data Prework\").first.click()\n",
    "                time.sleep(2)\n",
    "                browser.find_option_by_text(the_assignment).first.click()\n",
    "                         \n",
    "        line = fp.readline()\n",
    "        time.sleep(2)\n",
    "browser.quit()"
   ]
  },
  {
   "cell_type": "code",
   "execution_count": null,
   "metadata": {},
   "outputs": [],
   "source": []
  }
 ],
 "metadata": {
  "kernelspec": {
   "display_name": "Python 3",
   "language": "python",
   "name": "python3"
  },
  "language_info": {
   "codemirror_mode": {
    "name": "ipython",
    "version": 3
   },
   "file_extension": ".py",
   "mimetype": "text/x-python",
   "name": "python",
   "nbconvert_exporter": "python",
   "pygments_lexer": "ipython3",
   "version": "3.6.6"
  }
 },
 "nbformat": 4,
 "nbformat_minor": 2
}
